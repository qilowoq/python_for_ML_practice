{
 "cells": [
  {
   "cell_type": "code",
   "execution_count": null,
   "metadata": {},
   "outputs": [],
   "source": [
    "class StrategyDeal:\n",
    "    def __init__(self, bank, entry, targets, close):\n",
    "        pass\n",
    "        \n",
    "    def get_targets(self):\n",
    "        # вернуть список таргетов в виде числовых значений float [21.5, 22.8, 23.5]\n",
    "        pass \n",
    "\n",
    "    def get_target_percents(self):\n",
    "        # вернуть список процентов, как в примере, округленные до 3 знака [6.912, 13.376, 16.857]\n",
    "        pass\n",
    "\n",
    "    def get_target_banks(self):\n",
    "        # список значений банков, если продавать активы по таргетам, как в пример, округленные до 3 знака [1069.12, 1133.764, 1168.573]\n",
    "        pass\n",
    "\n",
    "    def __str__(self):\n",
    "        # текстовое представление сделки\n",
    "        pass\n",
    "\n",
    "\n",
    "def read_data(file_name):\n",
    "    pass\n",
    "\n",
    "\n",
    "def write_data(file_name, data):\n",
    "    pass\n",
    "\n",
    "\n",
    "def main():\n",
    "    content = read_data('deals.txt')\n",
    "    result = content\n",
    "    write_data('out.txt', result)\n",
    "\n",
    "\n",
    "if __name__ == '__main__':\n",
    "    main()"
   ]
  }
 ],
 "metadata": {
  "kernelspec": {
   "display_name": "base",
   "language": "python",
   "name": "python3"
  },
  "language_info": {
   "name": "python",
   "version": "3.9.13 (main, Aug 25 2022, 18:24:45) \n[Clang 12.0.0 ]"
  },
  "orig_nbformat": 4,
  "vscode": {
   "interpreter": {
    "hash": "357cdb0946f19dc1f3bceb2ae1c637dd27e76685350e66cbcc044f8eef24dccd"
   }
  }
 },
 "nbformat": 4,
 "nbformat_minor": 2
}
