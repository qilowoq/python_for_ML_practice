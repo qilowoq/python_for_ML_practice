{
 "cells": [
  {
   "cell_type": "code",
   "execution_count": null,
   "metadata": {},
   "outputs": [],
   "source": [
    "s = \"A simple sentence has the most basic elements that make it a sentence: a subject a verb and a completed thought\""
   ]
  },
  {
   "cell_type": "code",
   "execution_count": null,
   "metadata": {},
   "outputs": [],
   "source": [
    "#1\n",
    "list(filter(lambda x: x % 17 == 0, range(1, 1001)))"
   ]
  },
  {
   "cell_type": "code",
   "execution_count": null,
   "metadata": {},
   "outputs": [],
   "source": [
    "#2\n",
    "list(filter(lambda x: '2' in str(x), range(1, 1001)))"
   ]
  },
  {
   "cell_type": "code",
   "execution_count": null,
   "metadata": {},
   "outputs": [],
   "source": [
    "#3\n",
    "list(filter(lambda x: str(x) == str(x)[::-1], range(1, 1001)))"
   ]
  },
  {
   "cell_type": "code",
   "execution_count": null,
   "metadata": {},
   "outputs": [],
   "source": [
    "#4\n",
    "sum(map(lambda x: x == ' ', s))"
   ]
  },
  {
   "cell_type": "code",
   "execution_count": null,
   "metadata": {},
   "outputs": [],
   "source": [
    "#5\n",
    "''.join(filter(lambda x: x not in ['a', 'e', 'u', 'i', 'o'], s))"
   ]
  },
  {
   "cell_type": "code",
   "execution_count": null,
   "metadata": {},
   "outputs": [],
   "source": [
    "#6\n",
    "list(filter(lambda x: len(x) <= 5, s.split()))"
   ]
  },
  {
   "cell_type": "code",
   "execution_count": null,
   "metadata": {},
   "outputs": [],
   "source": [
    "#7\n",
    "dict(map(lambda x: (x, len(x)), s.split()))"
   ]
  },
  {
   "cell_type": "code",
   "execution_count": null,
   "metadata": {},
   "outputs": [],
   "source": [
    "#8\n",
    "set(filter(lambda x: x.lower() in map(chr, range(97, 123)), s))"
   ]
  },
  {
   "cell_type": "code",
   "execution_count": null,
   "metadata": {},
   "outputs": [],
   "source": [
    "#9\n",
    "l = [1, 3213, 12, 31, 5]\n",
    "list(map(lambda x: x**2, l))"
   ]
  },
  {
   "cell_type": "code",
   "execution_count": null,
   "metadata": {},
   "outputs": [],
   "source": [
    "#10\n",
    "l = [(1, 3), (2, 3), (5, 3)]\n",
    "list(filter(lambda t: t[1] == 5 * t[0] - 2, l))"
   ]
  },
  {
   "cell_type": "code",
   "execution_count": null,
   "metadata": {},
   "outputs": [],
   "source": [
    "#11\n",
    "list(map(lambda x: x**2, filter(lambda x: x % 2 == 0, range(2, 28))))"
   ]
  },
  {
   "cell_type": "code",
   "execution_count": null,
   "metadata": {},
   "outputs": [],
   "source": [
    "#12\n",
    "import math\n",
    "coords = [(1, 1), (2, 3), (5, 3)]\n",
    "max(map(lambda t: math.sqrt(t[0]**2 + t[1]**2), filter(lambda t: t[0] >= 0 and t[1] >= 0, coords)))"
   ]
  },
  {
   "cell_type": "code",
   "execution_count": null,
   "metadata": {},
   "outputs": [],
   "source": [
    "#13\n",
    "nums_first = [1, 2, 3, 5, 8]\n",
    "nums_second = [2, 4, 8, 16, 32]\n",
    "list(map(lambda x, y: (x+y, x-y), nums_first, nums_second))"
   ]
  },
  {
   "cell_type": "code",
   "execution_count": null,
   "metadata": {},
   "outputs": [],
   "source": [
    "#14\n",
    "l = ['43141', '32441', '431', '4154', '43121']\n",
    "list(filter(lambda x: int(x) % 2 == 0, map(lambda x: str(int(x)**2), l)))"
   ]
  },
  {
   "cell_type": "code",
   "execution_count": null,
   "metadata": {},
   "outputs": [],
   "source": [
    "input_str = \"\"\"name,Petya,Vasya,Masha,Vova\n",
    "grade,5,5,8,3\n",
    "subject,math,language,physics,math\n",
    "year,1999,2000,1995,1998\"\"\"\n",
    "\n",
    "[[item.split(',')[i] for item in input_str.split('\\n')] for i in range(len(input_str.split('\\n')[0].split(',')))]"
   ]
  }
 ],
 "metadata": {
  "kernelspec": {
   "display_name": "Python 3.9.12 ('base')",
   "language": "python",
   "name": "python3"
  },
  "language_info": {
   "codemirror_mode": {
    "name": "ipython",
    "version": 3
   },
   "file_extension": ".py",
   "mimetype": "text/x-python",
   "name": "python",
   "nbconvert_exporter": "python",
   "pygments_lexer": "ipython3",
   "version": "3.9.13"
  },
  "orig_nbformat": 4,
  "vscode": {
   "interpreter": {
    "hash": "357cdb0946f19dc1f3bceb2ae1c637dd27e76685350e66cbcc044f8eef24dccd"
   }
  }
 },
 "nbformat": 4,
 "nbformat_minor": 2
}
